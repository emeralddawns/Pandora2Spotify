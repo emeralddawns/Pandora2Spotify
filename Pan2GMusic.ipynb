{
 "cells": [
  {
   "cell_type": "markdown",
   "id": "fd6141ff-145d-4e3f-ae01-ed6bae833cb8",
   "metadata": {},
   "source": [
    "Scraping from Spotify: https://github.com/rupert/pandora-to-google-music/blob/master/pandora_to_google_music.py"
   ]
  },
  {
   "cell_type": "code",
   "execution_count": 1,
   "id": "206e403f-d569-4de3-b006-5a3afcde30e1",
   "metadata": {},
   "outputs": [],
   "source": [
    "import re\n",
    "from getpass import getpass\n",
    "from collections import defaultdict\n",
    "import difflib\n",
    "\n",
    "import requests\n",
    "from termcolor import colored\n",
    "from lxml import html\n",
    "# import unidecode"
   ]
  },
  {
   "cell_type": "code",
   "execution_count": 2,
   "id": "b71d8876-c894-47d9-9716-9210fdc41801",
   "metadata": {},
   "outputs": [],
   "source": [
    "#Import Usernames and PWs\n",
    "from config import pan_user, pan_pw, spot_user, spot_pw"
   ]
  },
  {
   "cell_type": "code",
   "execution_count": 3,
   "id": "7539d143-269f-4d99-be82-e5e1a8de5baa",
   "metadata": {},
   "outputs": [],
   "source": [
    "class LoginException(Exception):\n",
    "    pass"
   ]
  },
  {
   "cell_type": "code",
   "execution_count": 4,
   "id": "12ba96db-0278-4668-b9f4-5b01353011ed",
   "metadata": {},
   "outputs": [],
   "source": [
    "class PandoraClient(object):\n",
    "    LOGIN_URL = \"https://www.pandora.com/login.vm\"\n",
    "    LIKES_URL = \"http://www.pandora.com/content/tracklikes\"\n",
    "    STATIONS_URL = \"http://www.pandora.com/content/stations\""
   ]
  },
  {
   "cell_type": "code",
   "execution_count": 5,
   "id": "1fd56ae4-5a26-4d55-a6e9-3de176e91700",
   "metadata": {},
   "outputs": [],
   "source": [
    "def __init__(self, email, password):\n",
    "        self.session = requests.session()\n",
    "\n",
    "        response = self.session.post(PandoraClient.LOGIN_URL, data={\n",
    "            \"login_username\": email,\n",
    "            \"login_password\": password,\n",
    "        })\n",
    "\n",
    "        if \"0;url=http://www.pandora.com/people/\" not in response.text:\n",
    "            raise LoginException(\"Pandora login failed, check email and password\")"
   ]
  },
  {
   "cell_type": "code",
   "execution_count": 6,
   "id": "5d74935c-1e05-4c46-96d6-0c616fd84033",
   "metadata": {},
   "outputs": [],
   "source": [
    "def liked_tracks(self):\n",
    "#         \"\"\" Scrape likes from the Pandora web interface \"\"\"\n",
    "\n",
    "        like_start_index = 0\n",
    "        thumb_start_index = 0\n",
    "\n",
    "        tracks = defaultdict(list)\n",
    "        more_pages = True\n",
    "        page = 1\n",
    "\n",
    "        while more_pages:\n",
    "            response = self.session.get(PandoraClient.LIKES_URL, params={\n",
    "                \"likeStartIndex\": like_start_index,\n",
    "                \"thumbStartIndex\": thumb_start_index,\n",
    "            })\n",
    "\n",
    "            print_section_heading('Fetching Pandora Likes (page %d)' % page)\n",
    "\n",
    "            tree = html.fromstring(response.text)\n",
    "\n",
    "            for element in tree.find_class(\"infobox-body\"):\n",
    "                title = unicode(element.find(\"h3\").text_content())\n",
    "                title = title.strip()\n",
    "\n",
    "                artist = unicode(element.find(\"p\").text_content())\n",
    "                artist = artist.strip()\n",
    "                artist = re.sub(r\"^by\\s+\", \"\", artist)\n",
    "\n",
    "                station_elements = element.find_class(\"like_context_stationname\")\n",
    "\n",
    "                if station_elements:\n",
    "                    station_name = unicode(station_elements[0].text_content())\n",
    "                    station_name = station_name.strip()\n",
    "                else:\n",
    "                    # Bookmarked track\n",
    "                    station_name = None\n",
    "\n",
    "                tracks[station_name].append((artist, title))\n",
    "\n",
    "                print_song(artist, title)\n",
    "\n",
    "            more_elements = tree.find_class(\"show_more\")\n",
    "\n",
    "            # There are more pages\n",
    "            if more_elements:\n",
    "                like_start_index = more_elements[0].get(\"data-nextlikestartindex\")\n",
    "                thumb_start_index = more_elements[0].get(\"data-nextthumbstartindex\")\n",
    "            else:\n",
    "                more_pages = False\n",
    "\n",
    "            page += 1\n",
    "\n",
    "        return tracks"
   ]
  },
  {
   "cell_type": "code",
   "execution_count": 7,
   "id": "9dc94a06-4a25-4d54-b437-bb6d86bf11a6",
   "metadata": {},
   "outputs": [],
   "source": [
    "def stations(self):\n",
    "#         \"\"\" Scrape station names from the Pandora web interface \"\"\"\n",
    "\n",
    "        response = self.session.get(PandoraClient.STATIONS_URL)\n",
    "        tree = html.fromstring(response.text)\n",
    "\n",
    "        stations = []\n",
    "\n",
    "        for element in tree.findall(\".//h3\"):\n",
    "            station_name = unicode(element.text_content().strip())\n",
    "            stations.append(station_name)\n",
    "\n",
    "        return stations"
   ]
  },
  {
   "cell_type": "code",
   "execution_count": 8,
   "id": "8f7e7e5c-d79d-4674-b415-297fadd4a936",
   "metadata": {},
   "outputs": [],
   "source": [
    "def pandora_to_google_music(pan_user, pan_pw):\n",
    "#     \"\"\" Sync Pandora likes with Google Music playlists \"\"\"\n",
    "\n",
    "    pandora_client = PandoraClient(pandora_email, pandora_password)\n",
    "\n",
    "    # Get liked Pandora tracks\n",
    "    pandora_likes = pandora_client.liked_tracks()\n",
    "    pandora_like_count = sum(len(x) for x in pandora_likes.values())\n",
    "\n",
    "    # Get Pandora stations\n",
    "    pandora_stations = set(pandora_client.stations())\n",
    "\n",
    "    pandora_playlists = defaultdict(list)\n",
    "\n",
    "    # Copy all songs to main playlist\n",
    "    # Add Pandora prefix to playlist names\n",
    "    # Remove deleted stations (songs will be in main playlist)\n",
    "    for station_name, songs in pandora_likes.items():\n",
    "        # Copy songs to main playlist\n",
    "        pandora_playlists[\"Pandora\"].extend(songs)\n",
    "\n",
    "        # Check station hasn't been deleted\n",
    "        if station_name in pandora_stations:\n",
    "            pandora_playlists[\"Pandora - %s\" % station_name] = songs"
   ]
  },
  {
   "cell_type": "code",
   "execution_count": 9,
   "id": "65e95548-6d64-4935-a162-6c889ab888ea",
   "metadata": {},
   "outputs": [],
   "source": [
    "def main():\n",
    "#     \"\"\" Run pandora_to_google_music \"\"\"\n",
    "    pandora_to_google_music(\n",
    "        pan_user,\n",
    "        pan_pw\n",
    "    )"
   ]
  },
  {
   "cell_type": "code",
   "execution_count": 10,
   "id": "0e34353d-aa26-483c-809f-e141a73a9f17",
   "metadata": {},
   "outputs": [
    {
     "data": {
      "text/plain": [
       "<function __main__.main()>"
      ]
     },
     "execution_count": 10,
     "metadata": {},
     "output_type": "execute_result"
    }
   ],
   "source": []
  },
  {
   "cell_type": "code",
   "execution_count": null,
   "id": "a64b185a-9968-42ef-8bb5-9c961c5ed34a",
   "metadata": {},
   "outputs": [],
   "source": []
  }
 ],
 "metadata": {
  "kernelspec": {
   "display_name": "Python 3",
   "language": "python",
   "name": "python3"
  },
  "language_info": {
   "codemirror_mode": {
    "name": "ipython",
    "version": 3
   },
   "file_extension": ".py",
   "mimetype": "text/x-python",
   "name": "python",
   "nbconvert_exporter": "python",
   "pygments_lexer": "ipython3",
   "version": "3.8.8"
  }
 },
 "nbformat": 4,
 "nbformat_minor": 5
}
